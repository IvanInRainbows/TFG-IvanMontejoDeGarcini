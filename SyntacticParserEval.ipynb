{
 "cells": [
  {
   "cell_type": "code",
   "execution_count": 28,
   "metadata": {},
   "outputs": [],
   "source": [
    "import pandas as pd\n",
    "import spacy\n",
    "import stanza\n",
    "import spacy\n",
    "from stanza.utils.conll import CoNLL\n",
    "import os"
   ]
  },
  {
   "cell_type": "code",
   "execution_count": 29,
   "metadata": {},
   "outputs": [
    {
     "name": "stderr",
     "output_type": "stream",
     "text": [
      "2025-03-03 21:10:40 INFO: Checking for updates to resources.json in case models have been updated.  Note: this behavior can be turned off with download_method=None or download_method=DownloadMethod.REUSE_RESOURCES\n"
     ]
    },
    {
     "data": {
      "application/vnd.jupyter.widget-view+json": {
       "model_id": "3361971dd2bb4369b32c46a323890e17",
       "version_major": 2,
       "version_minor": 0
      },
      "text/plain": [
       "Downloading https://raw.githubusercontent.com/stanfordnlp/stanza-resources/main/resources_1.10.0.json:   0%|  …"
      ]
     },
     "metadata": {},
     "output_type": "display_data"
    },
    {
     "name": "stderr",
     "output_type": "stream",
     "text": [
      "2025-03-03 21:10:41 INFO: Downloaded file to /home/ivan/stanza_resources/resources.json\n",
      "2025-03-03 21:10:43 INFO: Loading these models for language: es (Spanish):\n",
      "=================================\n",
      "| Processor | Package           |\n",
      "---------------------------------\n",
      "| tokenize  | combined          |\n",
      "| mwt       | combined          |\n",
      "| pos       | combined_charlm   |\n",
      "| lemma     | combined_nocharlm |\n",
      "| depparse  | combined_charlm   |\n",
      "| ner       | conll02           |\n",
      "=================================\n",
      "\n",
      "2025-03-03 21:10:43 INFO: Using device: cpu\n",
      "2025-03-03 21:10:43 INFO: Loading: tokenize\n",
      "2025-03-03 21:10:44 INFO: Loading: mwt\n",
      "2025-03-03 21:10:44 INFO: Loading: pos\n",
      "2025-03-03 21:10:47 INFO: Loading: lemma\n",
      "2025-03-03 21:10:49 INFO: Loading: depparse\n",
      "2025-03-03 21:10:50 INFO: Loading: ner\n",
      "2025-03-03 21:10:54 INFO: Done loading processors!\n"
     ]
    }
   ],
   "source": [
    "nlp_stanza = stanza.Pipeline(lang='es', processors='tokenize,ner,mwt,pos,lemma,depparse')\n",
    "nlp_spacy = spacy.load(\"es_core_news_md\")"
   ]
  },
  {
   "cell_type": "code",
   "execution_count": 43,
   "metadata": {},
   "outputs": [
    {
     "name": "stdout",
     "output_type": "stream",
     "text": [
      "/home/ivan/Desktop/Uni/TFG/RepositorioTFG/corpus.conll\n"
     ]
    },
    {
     "name": "stderr",
     "output_type": "stream",
     "text": [
      "-----------------------------------------------------------------------------\n",
      "                          MaltParser 1.9.2                             \n",
      "-----------------------------------------------------------------------------\n",
      "         MALT (Models and Algorithms for Language Technology) Group          \n",
      "             Vaxjo University and Uppsala University                         \n",
      "                             Sweden                                          \n",
      "-----------------------------------------------------------------------------\n",
      "\n",
      "Started: Mon Mar 03 21:35:05 CET 2025\n",
      "  Transition system    : Non-Projective\n",
      "  Parser configuration : Covington with allow_root=true and allow_shift=false\n",
      "  Data Format          : /espmalt-1.0/conllx.xml\n",
      ".          \t      1\t      2s\t    137MB\n",
      ".          \t     10\t      3s\t    167MB\n",
      ".          \t    100\t      4s\t    179MB\n",
      "..........\t   1000\t     15s\t    150MB\n",
      ".......    \t   1721\t     20s\t    130MB\n",
      "Parsing time: 00:00:19 (19505 ms)\n",
      "Finished: Mon Mar 03 21:35:25 CET 2025\n"
     ]
    },
    {
     "name": "stdout",
     "output_type": "stream",
     "text": [
      "output saved in /home/ivan/Desktop/Uni/TFG/RepositorioTFG/maltParserOut.conll\n"
     ]
    }
   ],
   "source": [
    "baselineFilePath = \"/home/ivan/Desktop/Uni/TFG/RepositorioTFG/Datasets/UD_Spanish-AnCora/es_ancora-ud-test.conllu\"\n",
    "baseline = CoNLL.conll2doc(baselineFilePath)\n",
    "\n",
    "if baselineFilePath[len(baselineFilePath)-6:] != \".conll\":\n",
    "    os.system(f\"python conllu-to-conll-standard.py {baselineFilePath} {os.path.abspath(\"\")+\"/corpus.conll\"}\")\n",
    "    os.system(f\"bash callMaltParser.sh {os.path.abspath(\"\")+\"/corpus.conll\"}\")\n",
    "else:\n",
    "    os.system(f\"bash callMaltParser.sh {baselineFilePath}\")\n",
    "\n",
    "\n",
    "sentences = [i.text for i in baseline.sentences[:100]]\n",
    "malt_parser = CoNLL.conll2doc(os.path.abspath(\"\")+\"/maltParserOut.conll\")\n",
    "spacy_output = nlp_spacy(\"\".join(sentences))\n",
    "stanza_output = nlp_stanza(\"\".join(sentences))"
   ]
  },
  {
   "cell_type": "code",
   "execution_count": 44,
   "metadata": {},
   "outputs": [
    {
     "name": "stdout",
     "output_type": "stream",
     "text": [
      "de : case\n",
      "de : case\n",
      "de : case\n",
      "de : SUBJ\n"
     ]
    }
   ],
   "source": [
    "i = 1\n",
    "j = 0\n",
    "print(list(spacy_output.sents)[j][i].text, \":\", list(spacy_output.sents)[j][i].dep_)\n",
    "print(stanza_output.sentences[j].words[i].text, \":\", stanza_output.sentences[j].words[i].deprel)\n",
    "print(baseline.sentences[j].words[i].text, \":\", baseline.sentences[j].words[i].deprel)\n",
    "print(malt_parser.sentences[j].words[i].text, \":\", malt_parser.sentences[j].words[i].deprel)"
   ]
  },
  {
   "cell_type": "code",
   "execution_count": 36,
   "metadata": {},
   "outputs": [
    {
     "name": "stdout",
     "output_type": "stream",
     "text": [
      "2984\n",
      "3068\n",
      "53622\n",
      "53622\n"
     ]
    }
   ],
   "source": [
    "print(len(spacy_output))\n",
    "print(len(list(stanza_output.iter_words())))\n",
    "print(len(list(baseline.iter_words())))\n",
    "print(len(list(malt_parser.iter_words())))"
   ]
  }
 ],
 "metadata": {
  "kernelspec": {
   "display_name": "base",
   "language": "python",
   "name": "python3"
  },
  "language_info": {
   "codemirror_mode": {
    "name": "ipython",
    "version": 3
   },
   "file_extension": ".py",
   "mimetype": "text/x-python",
   "name": "python",
   "nbconvert_exporter": "python",
   "pygments_lexer": "ipython3",
   "version": "3.12.2"
  }
 },
 "nbformat": 4,
 "nbformat_minor": 2
}
