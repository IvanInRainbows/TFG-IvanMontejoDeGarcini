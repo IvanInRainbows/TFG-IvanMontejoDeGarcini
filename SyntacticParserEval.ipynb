{
  "cells": [
    {
      "cell_type": "code",
      "execution_count": null,
      "metadata": {
        "colab": {
          "base_uri": "https://localhost:8080/"
        },
        "id": "y4cRrJv_roUC",
        "outputId": "0c76b288-e630-4ccc-ca69-797d0934465c"
      },
      "outputs": [
        {
          "name": "stdout",
          "output_type": "stream",
          "text": [
            "Requirement already satisfied: stanza in /usr/local/lib/python3.11/dist-packages (1.10.1)\n",
            "Requirement already satisfied: emoji in /usr/local/lib/python3.11/dist-packages (from stanza) (2.14.1)\n",
            "Requirement already satisfied: numpy in /usr/local/lib/python3.11/dist-packages (from stanza) (2.0.2)\n",
            "Requirement already satisfied: protobuf>=3.15.0 in /usr/local/lib/python3.11/dist-packages (from stanza) (5.29.4)\n",
            "Requirement already satisfied: requests in /usr/local/lib/python3.11/dist-packages (from stanza) (2.32.3)\n",
            "Requirement already satisfied: networkx in /usr/local/lib/python3.11/dist-packages (from stanza) (3.4.2)\n",
            "Requirement already satisfied: torch>=1.3.0 in /usr/local/lib/python3.11/dist-packages (from stanza) (2.6.0+cu124)\n",
            "Requirement already satisfied: tqdm in /usr/local/lib/python3.11/dist-packages (from stanza) (4.67.1)\n",
            "Requirement already satisfied: filelock in /usr/local/lib/python3.11/dist-packages (from torch>=1.3.0->stanza) (3.18.0)\n",
            "Requirement already satisfied: typing-extensions>=4.10.0 in /usr/local/lib/python3.11/dist-packages (from torch>=1.3.0->stanza) (4.12.2)\n",
            "Requirement already satisfied: jinja2 in /usr/local/lib/python3.11/dist-packages (from torch>=1.3.0->stanza) (3.1.6)\n",
            "Requirement already satisfied: fsspec in /usr/local/lib/python3.11/dist-packages (from torch>=1.3.0->stanza) (2025.3.0)\n",
            "Requirement already satisfied: nvidia-cuda-nvrtc-cu12==12.4.127 in /usr/local/lib/python3.11/dist-packages (from torch>=1.3.0->stanza) (12.4.127)\n",
            "Requirement already satisfied: nvidia-cuda-runtime-cu12==12.4.127 in /usr/local/lib/python3.11/dist-packages (from torch>=1.3.0->stanza) (12.4.127)\n",
            "Requirement already satisfied: nvidia-cuda-cupti-cu12==12.4.127 in /usr/local/lib/python3.11/dist-packages (from torch>=1.3.0->stanza) (12.4.127)\n",
            "Requirement already satisfied: nvidia-cudnn-cu12==9.1.0.70 in /usr/local/lib/python3.11/dist-packages (from torch>=1.3.0->stanza) (9.1.0.70)\n",
            "Requirement already satisfied: nvidia-cublas-cu12==12.4.5.8 in /usr/local/lib/python3.11/dist-packages (from torch>=1.3.0->stanza) (12.4.5.8)\n",
            "Requirement already satisfied: nvidia-cufft-cu12==11.2.1.3 in /usr/local/lib/python3.11/dist-packages (from torch>=1.3.0->stanza) (11.2.1.3)\n",
            "Requirement already satisfied: nvidia-curand-cu12==10.3.5.147 in /usr/local/lib/python3.11/dist-packages (from torch>=1.3.0->stanza) (10.3.5.147)\n",
            "Requirement already satisfied: nvidia-cusolver-cu12==11.6.1.9 in /usr/local/lib/python3.11/dist-packages (from torch>=1.3.0->stanza) (11.6.1.9)\n",
            "Requirement already satisfied: nvidia-cusparse-cu12==12.3.1.170 in /usr/local/lib/python3.11/dist-packages (from torch>=1.3.0->stanza) (12.3.1.170)\n",
            "Requirement already satisfied: nvidia-cusparselt-cu12==0.6.2 in /usr/local/lib/python3.11/dist-packages (from torch>=1.3.0->stanza) (0.6.2)\n",
            "Requirement already satisfied: nvidia-nccl-cu12==2.21.5 in /usr/local/lib/python3.11/dist-packages (from torch>=1.3.0->stanza) (2.21.5)\n",
            "Requirement already satisfied: nvidia-nvtx-cu12==12.4.127 in /usr/local/lib/python3.11/dist-packages (from torch>=1.3.0->stanza) (12.4.127)\n",
            "Requirement already satisfied: nvidia-nvjitlink-cu12==12.4.127 in /usr/local/lib/python3.11/dist-packages (from torch>=1.3.0->stanza) (12.4.127)\n",
            "Requirement already satisfied: triton==3.2.0 in /usr/local/lib/python3.11/dist-packages (from torch>=1.3.0->stanza) (3.2.0)\n",
            "Requirement already satisfied: sympy==1.13.1 in /usr/local/lib/python3.11/dist-packages (from torch>=1.3.0->stanza) (1.13.1)\n",
            "Requirement already satisfied: mpmath<1.4,>=1.1.0 in /usr/local/lib/python3.11/dist-packages (from sympy==1.13.1->torch>=1.3.0->stanza) (1.3.0)\n",
            "Requirement already satisfied: charset-normalizer<4,>=2 in /usr/local/lib/python3.11/dist-packages (from requests->stanza) (3.4.1)\n",
            "Requirement already satisfied: idna<4,>=2.5 in /usr/local/lib/python3.11/dist-packages (from requests->stanza) (3.10)\n",
            "Requirement already satisfied: urllib3<3,>=1.21.1 in /usr/local/lib/python3.11/dist-packages (from requests->stanza) (2.3.0)\n",
            "Requirement already satisfied: certifi>=2017.4.17 in /usr/local/lib/python3.11/dist-packages (from requests->stanza) (2025.1.31)\n",
            "Requirement already satisfied: MarkupSafe>=2.0 in /usr/local/lib/python3.11/dist-packages (from jinja2->torch>=1.3.0->stanza) (3.0.2)\n"
          ]
        }
      ],
      "source": [
        "!pip install stanza #For google colab"
      ]
    },
    {
      "cell_type": "code",
      "execution_count": null,
      "metadata": {
        "colab": {
          "base_uri": "https://localhost:8080/",
          "height": 190,
          "referenced_widgets": [
            "7c090b85df1041caa0d22aa593e8591a",
            "5385edd06d2b464ea647f6d4424da732",
            "9f7ce6d633c04b0cb42c2d336a52b95e",
            "b1cfa7c8bdba4e16a2ade12ba9282e2c",
            "a737c7e5efe846a89e692e7d96c0e559",
            "97683e4f51e84d37beb329cd107064b0",
            "6455bcb0e98643089d2dbc4cb34564d6",
            "d6067157b11b4e46b7474ff900d9a630",
            "49536c918ecd41b98ddd32866baccc88",
            "77f8cbedf71f444290890afd51871cb0",
            "48df388883fe48ea9ef80cdf4d468964"
          ]
        },
        "id": "c4YXFYFxrdUm",
        "outputId": "abad3955-fc37-491c-de61-88ca352fae66"
      },
      "outputs": [
        {
          "data": {
            "application/vnd.jupyter.widget-view+json": {
              "model_id": "7c090b85df1041caa0d22aa593e8591a",
              "version_major": 2,
              "version_minor": 0
            },
            "text/plain": [
              "Downloading https://raw.githubusercontent.com/stanfordnlp/stanza-resources/main/resources_1.10.0.json:   0%|  …"
            ]
          },
          "metadata": {},
          "output_type": "display_data"
        },
        {
          "name": "stderr",
          "output_type": "stream",
          "text": [
            "INFO:stanza:Downloaded file to /root/stanza_resources/resources.json\n",
            "INFO:stanza:Downloading default packages for language: es (Spanish) ...\n",
            "INFO:stanza:File exists: /root/stanza_resources/es/default.zip\n",
            "INFO:stanza:Finished downloading models and saved to /root/stanza_resources\n"
          ]
        },
        {
          "data": {
            "application/vnd.google.colaboratory.intrinsic+json": {
              "type": "string"
            },
            "text/plain": [
              "'def callFreeling(text :str, splitSentences = True) -> list[list[dict]]:\\n    open(os.path.abspath(\"\")+\"/tmp.txt\", \"w+\").write(text)\\n    os.system(f\"bash ./callFreeling.sh {os.path.abspath(\"\")+\"/tmp.txt\"} {os.path.abspath(\"\")+\"/tmp2.txt\"}\")\\n    out = open(os.path.abspath(\"\")+\"/tmp2.txt\", \"r\").read().split(\"\\n\\n\") if splitSentences else [open(os.path.abspath(\"\")+\"/tmp2.txt\", \"r\").read().replace(\"\\n\\n\", \"\\n\")]\\n    os.remove(os.path.abspath(\"\")+\"/tmp.txt\")\\n    os.remove(os.path.abspath(\"\")+\"/tmp2.txt\")\\n    out = [i.split(\"\\n\") for i in out]\\n    columns = \"ID FORM LEMMA TAG SHORT_TAG MSD NEC SENSE SYNTAX DEPHEAD DEPREL COREF SRL\".split(\" \")\\n    out = [[{columns[i] : re.split(\" +\", word)[i] for i in range(len(re.split(\" +\", word)))} for word in sent]for sent in out]\\n    return out'"
            ]
          },
          "execution_count": 2,
          "metadata": {},
          "output_type": "execute_result"
        }
      ],
      "source": [
        "import pandas as pd\n",
        "import spacy\n",
        "import stanza\n",
        "from stanza.utils.conll import CoNLL\n",
        "import os\n",
        "import re\n",
        "stanza.download('es')\n",
        "\"\"\"def callFreeling(text :str, splitSentences = True) -> list[list[dict]]:\n",
        "    open(os.path.abspath(\"\")+\"/tmp.txt\", \"w+\").write(text)\n",
        "    os.system(f\"bash ./callFreeling.sh {os.path.abspath(\"\")+\"/tmp.txt\"} {os.path.abspath(\"\")+\"/tmp2.txt\"}\")\n",
        "    out = open(os.path.abspath(\"\")+\"/tmp2.txt\", \"r\").read().split(\"\\n\\n\") if splitSentences else [open(os.path.abspath(\"\")+\"/tmp2.txt\", \"r\").read().replace(\"\\n\\n\", \"\\n\")]\n",
        "    os.remove(os.path.abspath(\"\")+\"/tmp.txt\")\n",
        "    os.remove(os.path.abspath(\"\")+\"/tmp2.txt\")\n",
        "    out = [i.split(\"\\n\") for i in out]\n",
        "    columns = \"ID FORM LEMMA TAG SHORT_TAG MSD NEC SENSE SYNTAX DEPHEAD DEPREL COREF SRL\".split(\" \")\n",
        "    out = [[{columns[i] : re.split(\" +\", word)[i] for i in range(len(re.split(\" +\", word)))} for word in sent]for sent in out]\n",
        "    return out\"\"\""
      ]
    },
    {
      "cell_type": "code",
      "execution_count": null,
      "metadata": {
        "colab": {
          "base_uri": "https://localhost:8080/"
        },
        "id": "uvrOxWtttgLq",
        "outputId": "59ab7aef-dd0a-4e87-ba6b-22b41bb109ca"
      },
      "outputs": [
        {
          "name": "stdout",
          "output_type": "stream",
          "text": [
            "Collecting es-dep-news-trf==3.8.0\n",
            "  Downloading https://github.com/explosion/spacy-models/releases/download/es_dep_news_trf-3.8.0/es_dep_news_trf-3.8.0-py3-none-any.whl (407.8 MB)\n",
            "\u001b[2K     \u001b[90m━━━━━━━━━━━━━━━━━━━━━━━━━━━━━━━━━━━━━━━━\u001b[0m \u001b[32m407.8/407.8 MB\u001b[0m \u001b[31m4.1 MB/s\u001b[0m eta \u001b[36m0:00:00\u001b[0m\n",
            "\u001b[?25hRequirement already satisfied: spacy-curated-transformers<1.0.0,>=0.2.2 in /usr/local/lib/python3.11/dist-packages (from es-dep-news-trf==3.8.0) (0.3.0)\n",
            "Requirement already satisfied: curated-transformers<0.2.0,>=0.1.0 in /usr/local/lib/python3.11/dist-packages (from spacy-curated-transformers<1.0.0,>=0.2.2->es-dep-news-trf==3.8.0) (0.1.1)\n",
            "Requirement already satisfied: curated-tokenizers<0.1.0,>=0.0.9 in /usr/local/lib/python3.11/dist-packages (from spacy-curated-transformers<1.0.0,>=0.2.2->es-dep-news-trf==3.8.0) (0.0.9)\n",
            "Requirement already satisfied: torch>=1.12.0 in /usr/local/lib/python3.11/dist-packages (from spacy-curated-transformers<1.0.0,>=0.2.2->es-dep-news-trf==3.8.0) (2.6.0+cu124)\n",
            "Requirement already satisfied: regex>=2022 in /usr/local/lib/python3.11/dist-packages (from curated-tokenizers<0.1.0,>=0.0.9->spacy-curated-transformers<1.0.0,>=0.2.2->es-dep-news-trf==3.8.0) (2024.11.6)\n",
            "Requirement already satisfied: filelock in /usr/local/lib/python3.11/dist-packages (from torch>=1.12.0->spacy-curated-transformers<1.0.0,>=0.2.2->es-dep-news-trf==3.8.0) (3.18.0)\n",
            "Requirement already satisfied: typing-extensions>=4.10.0 in /usr/local/lib/python3.11/dist-packages (from torch>=1.12.0->spacy-curated-transformers<1.0.0,>=0.2.2->es-dep-news-trf==3.8.0) (4.12.2)\n",
            "Requirement already satisfied: networkx in /usr/local/lib/python3.11/dist-packages (from torch>=1.12.0->spacy-curated-transformers<1.0.0,>=0.2.2->es-dep-news-trf==3.8.0) (3.4.2)\n",
            "Requirement already satisfied: jinja2 in /usr/local/lib/python3.11/dist-packages (from torch>=1.12.0->spacy-curated-transformers<1.0.0,>=0.2.2->es-dep-news-trf==3.8.0) (3.1.6)\n",
            "Requirement already satisfied: fsspec in /usr/local/lib/python3.11/dist-packages (from torch>=1.12.0->spacy-curated-transformers<1.0.0,>=0.2.2->es-dep-news-trf==3.8.0) (2025.3.0)\n",
            "Requirement already satisfied: nvidia-cuda-nvrtc-cu12==12.4.127 in /usr/local/lib/python3.11/dist-packages (from torch>=1.12.0->spacy-curated-transformers<1.0.0,>=0.2.2->es-dep-news-trf==3.8.0) (12.4.127)\n",
            "Requirement already satisfied: nvidia-cuda-runtime-cu12==12.4.127 in /usr/local/lib/python3.11/dist-packages (from torch>=1.12.0->spacy-curated-transformers<1.0.0,>=0.2.2->es-dep-news-trf==3.8.0) (12.4.127)\n",
            "Requirement already satisfied: nvidia-cuda-cupti-cu12==12.4.127 in /usr/local/lib/python3.11/dist-packages (from torch>=1.12.0->spacy-curated-transformers<1.0.0,>=0.2.2->es-dep-news-trf==3.8.0) (12.4.127)\n",
            "Requirement already satisfied: nvidia-cudnn-cu12==9.1.0.70 in /usr/local/lib/python3.11/dist-packages (from torch>=1.12.0->spacy-curated-transformers<1.0.0,>=0.2.2->es-dep-news-trf==3.8.0) (9.1.0.70)\n",
            "Requirement already satisfied: nvidia-cublas-cu12==12.4.5.8 in /usr/local/lib/python3.11/dist-packages (from torch>=1.12.0->spacy-curated-transformers<1.0.0,>=0.2.2->es-dep-news-trf==3.8.0) (12.4.5.8)\n",
            "Requirement already satisfied: nvidia-cufft-cu12==11.2.1.3 in /usr/local/lib/python3.11/dist-packages (from torch>=1.12.0->spacy-curated-transformers<1.0.0,>=0.2.2->es-dep-news-trf==3.8.0) (11.2.1.3)\n",
            "Requirement already satisfied: nvidia-curand-cu12==10.3.5.147 in /usr/local/lib/python3.11/dist-packages (from torch>=1.12.0->spacy-curated-transformers<1.0.0,>=0.2.2->es-dep-news-trf==3.8.0) (10.3.5.147)\n",
            "Requirement already satisfied: nvidia-cusolver-cu12==11.6.1.9 in /usr/local/lib/python3.11/dist-packages (from torch>=1.12.0->spacy-curated-transformers<1.0.0,>=0.2.2->es-dep-news-trf==3.8.0) (11.6.1.9)\n",
            "Requirement already satisfied: nvidia-cusparse-cu12==12.3.1.170 in /usr/local/lib/python3.11/dist-packages (from torch>=1.12.0->spacy-curated-transformers<1.0.0,>=0.2.2->es-dep-news-trf==3.8.0) (12.3.1.170)\n",
            "Requirement already satisfied: nvidia-cusparselt-cu12==0.6.2 in /usr/local/lib/python3.11/dist-packages (from torch>=1.12.0->spacy-curated-transformers<1.0.0,>=0.2.2->es-dep-news-trf==3.8.0) (0.6.2)\n",
            "Requirement already satisfied: nvidia-nccl-cu12==2.21.5 in /usr/local/lib/python3.11/dist-packages (from torch>=1.12.0->spacy-curated-transformers<1.0.0,>=0.2.2->es-dep-news-trf==3.8.0) (2.21.5)\n",
            "Requirement already satisfied: nvidia-nvtx-cu12==12.4.127 in /usr/local/lib/python3.11/dist-packages (from torch>=1.12.0->spacy-curated-transformers<1.0.0,>=0.2.2->es-dep-news-trf==3.8.0) (12.4.127)\n",
            "Requirement already satisfied: nvidia-nvjitlink-cu12==12.4.127 in /usr/local/lib/python3.11/dist-packages (from torch>=1.12.0->spacy-curated-transformers<1.0.0,>=0.2.2->es-dep-news-trf==3.8.0) (12.4.127)\n",
            "Requirement already satisfied: triton==3.2.0 in /usr/local/lib/python3.11/dist-packages (from torch>=1.12.0->spacy-curated-transformers<1.0.0,>=0.2.2->es-dep-news-trf==3.8.0) (3.2.0)\n",
            "Requirement already satisfied: sympy==1.13.1 in /usr/local/lib/python3.11/dist-packages (from torch>=1.12.0->spacy-curated-transformers<1.0.0,>=0.2.2->es-dep-news-trf==3.8.0) (1.13.1)\n",
            "Requirement already satisfied: mpmath<1.4,>=1.1.0 in /usr/local/lib/python3.11/dist-packages (from sympy==1.13.1->torch>=1.12.0->spacy-curated-transformers<1.0.0,>=0.2.2->es-dep-news-trf==3.8.0) (1.3.0)\n",
            "Requirement already satisfied: MarkupSafe>=2.0 in /usr/local/lib/python3.11/dist-packages (from jinja2->torch>=1.12.0->spacy-curated-transformers<1.0.0,>=0.2.2->es-dep-news-trf==3.8.0) (3.0.2)\n",
            "\u001b[38;5;2m✔ Download and installation successful\u001b[0m\n",
            "You can now load the package via spacy.load('es_dep_news_trf')\n",
            "\u001b[38;5;3m⚠ Restart to reload dependencies\u001b[0m\n",
            "If you are in a Jupyter or Colab notebook, you may need to restart Python in\n",
            "order to load all the package's dependencies. You can do this by selecting the\n",
            "'Restart kernel' or 'Restart runtime' option.\n"
          ]
        }
      ],
      "source": [
        "#For google collab\n",
        "!python -m spacy download es_dep_news_trf"
      ]
    },
    {
      "cell_type": "code",
      "execution_count": null,
      "metadata": {
        "colab": {
          "base_uri": "https://localhost:8080/",
          "height": 451,
          "referenced_widgets": [
            "ce1a1e858de14674b2baf4897b9a81d3",
            "32b57423b0dd4d0faa68270ac0528113",
            "fcbad918674748a7ad7ea80792ee812c",
            "ffdf4f2be6b748feb8357c64589e3a3b",
            "516ddba93cc646de8835faaed0a61afa",
            "1a5fce4229f4455b8f271b5d603ede53",
            "13df6adf0653471195f8ec3fe0a8a54e",
            "e01a5ca53849422dadeb78f73264a55e",
            "a3dae3511ffc48e0b509b6142839a958",
            "a5556fa28d2d4f998f1e642309f7a556",
            "f571ebcdceba493fbef70e4251284489"
          ]
        },
        "id": "asaWLVP2rdUp",
        "outputId": "694e91a3-8e67-414f-bf2e-628bfb3cb185"
      },
      "outputs": [
        {
          "name": "stderr",
          "output_type": "stream",
          "text": [
            "INFO:stanza:Checking for updates to resources.json in case models have been updated.  Note: this behavior can be turned off with download_method=None or download_method=DownloadMethod.REUSE_RESOURCES\n"
          ]
        },
        {
          "data": {
            "application/vnd.jupyter.widget-view+json": {
              "model_id": "ce1a1e858de14674b2baf4897b9a81d3",
              "version_major": 2,
              "version_minor": 0
            },
            "text/plain": [
              "Downloading https://raw.githubusercontent.com/stanfordnlp/stanza-resources/main/resources_1.10.0.json:   0%|  …"
            ]
          },
          "metadata": {},
          "output_type": "display_data"
        },
        {
          "name": "stderr",
          "output_type": "stream",
          "text": [
            "INFO:stanza:Downloaded file to /root/stanza_resources/resources.json\n",
            "INFO:stanza:Loading these models for language: es (Spanish):\n",
            "=================================\n",
            "| Processor | Package           |\n",
            "---------------------------------\n",
            "| tokenize  | combined          |\n",
            "| mwt       | combined          |\n",
            "| pos       | combined_charlm   |\n",
            "| lemma     | combined_nocharlm |\n",
            "| depparse  | combined_charlm   |\n",
            "| ner       | conll02           |\n",
            "=================================\n",
            "\n",
            "INFO:stanza:Using device: cuda\n",
            "INFO:stanza:Loading: tokenize\n",
            "INFO:stanza:Loading: mwt\n",
            "INFO:stanza:Loading: pos\n",
            "INFO:stanza:Loading: lemma\n",
            "INFO:stanza:Loading: depparse\n",
            "INFO:stanza:Loading: ner\n",
            "INFO:stanza:Done loading processors!\n"
          ]
        }
      ],
      "source": [
        "nlp_stanza = stanza.Pipeline(lang='es', processors='tokenize,ner,mwt,pos,lemma,depparse', use_gpu=True)\n",
        "nlp_spacy = spacy.load(\"es_dep_news_trf\")"
      ]
    },
    {
      "cell_type": "code",
      "execution_count": null,
      "metadata": {
        "id": "wHEbCN4vrdUq"
      },
      "outputs": [],
      "source": [
        "baselineFilePath = \"/content/es_ancora-ud-train.conllu\" #Baseline corpus path. It's not included in the repo, change this at your own will. Must be in conllu format with UD tags\n",
        "baseline = CoNLL.conll2doc(baselineFilePath)\n",
        "sentences = [i.text for i in baseline.sentences]"
      ]
    },
    {
      "cell_type": "code",
      "execution_count": null,
      "metadata": {
        "id": "GOx5Q0xFrdUr"
      },
      "outputs": [],
      "source": [
        "# SPACY MODEL\n",
        "spacy_output = nlp_spacy(\" \".join(sentences))\n",
        "\n",
        "# STANZA MODEL\n",
        "stanza_output = nlp_stanza(\" \".join(sentences))"
      ]
    },
    {
      "cell_type": "code",
      "execution_count": null,
      "metadata": {
        "id": "NMzNkNjMrdUr",
        "outputId": "90dd0e0e-c1ca-45ad-f7e9-e51cdb02c4a5"
      },
      "outputs": [
        {
          "name": "stdout",
          "output_type": "stream",
          "text": [
            "output saved in /home/ivan/Desktop/Uni/TFG/RepositorioTFG/freelingOutput.conll\n"
          ]
        }
      ],
      "source": [
        "# NOTE: Execute this only if you have installed Freeling!!\n",
        "# FREELING MODEL\n",
        "freeling_parser = callFreeling(\" \".join(sentences))"
      ]
    },
    {
      "cell_type": "code",
      "execution_count": null,
      "metadata": {
        "id": "jVCiAg7krdUs",
        "outputId": "4b86b0be-6849-416a-b5ea-d6964473fdfc"
      },
      "outputs": [
        {
          "name": "stdout",
          "output_type": "stream",
          "text": [
            "/home/ivan/Desktop/Uni/TFG/RepositorioTFG/corpus.conll\n"
          ]
        },
        {
          "name": "stderr",
          "output_type": "stream",
          "text": [
            "-----------------------------------------------------------------------------\n",
            "                          MaltParser 1.9.2                             \n",
            "-----------------------------------------------------------------------------\n",
            "         MALT (Models and Algorithms for Language Technology) Group          \n",
            "             Vaxjo University and Uppsala University                         \n",
            "                             Sweden                                          \n",
            "-----------------------------------------------------------------------------\n",
            "\n",
            "Started: Wed Mar 05 17:46:57 CET 2025\n",
            "  Transition system    : Non-Projective\n",
            "  Parser configuration : Covington with allow_root=true and allow_shift=false\n",
            "  Data Format          : /espmalt-1.0/conllx.xml\n",
            ".          \t      1\t      2s\t    145MB\n",
            ".          \t     10\t      2s\t    145MB\n",
            ".          \t    100\t      3s\t    190MB\n",
            "..........\t   1000\t     12s\t    365MB\n",
            ".......    \t   1721\t     15s\t    304MB\n",
            "Parsing time: 00:00:14 (14550 ms)\n",
            "Finished: Wed Mar 05 17:47:12 CET 2025\n"
          ]
        },
        {
          "name": "stdout",
          "output_type": "stream",
          "text": [
            "output saved in /home/ivan/Desktop/Uni/TFG/RepositorioTFG/maltParserOut.conll\n"
          ]
        }
      ],
      "source": [
        "# NOTE: Execute this only if you have installed Malt Parser!!\n",
        "# NOTE: Also check that the Malt Parser folder is in the same directory as the callMaltParser.sh script\n",
        "# MALT PARSER: chances are this will be removed, as I can't get it to work properly and it depends on freeling sentencizer and tagger\n",
        "if baselineFilePath[len(baselineFilePath)-6:] != \".conll\":\n",
        "    os.system(f\"python conllu-to-conll-standard.py {baselineFilePath} {os.path.abspath(\"\")+\"/corpus.conll\"}\")\n",
        "    os.system(f\"bash callMaltParser.sh {os.path.abspath(\"\")+\"/corpus.conll\"}\")\n",
        "else:\n",
        "    os.system(f\"bash callMaltParser.sh {baselineFilePath}\")\n",
        "malt_parser = CoNLL.conll2doc(os.path.abspath(\"\")+\"/maltParserOut.conll\")"
      ]
    },
    {
      "cell_type": "code",
      "execution_count": null,
      "metadata": {
        "id": "YEnvsshXrdUs"
      },
      "outputs": [],
      "source": [
        "print(\"Baseline: \", len(list(baseline.sentences)), \"sentences\")\n",
        "#print(\"Malt Parser: \", len(list(malt_parser.sentences)), \"sentences\")\n",
        "print(f\"Spacy: {len(list(spacy_output.sents))} sentences. Baseline difference: \", (len(list(spacy_output.sents))/len(list(baseline.sentences))-1)*100, \"%\")\n",
        "print(f\"Stanza: {len(list(stanza_output.sentences))} sentences. Baseline difference: \", (len(list(stanza_output.sentences))/len(list(baseline.sentences))-1)*100, \"%\")\n",
        "print(f\"freeling: {len(freeling_parser)} sentences. Baseline difference: \", (len(freeling_parser)/len(list(baseline.sentences))-1)*100, \"%\")"
      ]
    },
    {
      "cell_type": "markdown",
      "metadata": {
        "id": "XQkc6WtErdUt"
      },
      "source": [
        "Sentence split is inconsistent between stanza, spacy and especially freeling when compared to the baseline, which is a real problem. This highlights the difficulty of comparing syntactic parsers, as there are many more systems that play a role such as PoS tagger and sentencizer. A different approach is required, maybe disabling the sentencizer and processing the corpus sentence by sentence?"
      ]
    },
    {
      "cell_type": "markdown",
      "metadata": {
        "id": "g3qMxN-KrdUx"
      },
      "source": [
        "## Stanza"
      ]
    },
    {
      "cell_type": "code",
      "execution_count": null,
      "metadata": {
        "colab": {
          "base_uri": "https://localhost:8080/",
          "height": 451,
          "referenced_widgets": [
            "eaf56e6679384cc98104a2fe43152992",
            "b05cd82580774099a30e6315c0263973",
            "5328f05394b94c8db0119837a4b32abb",
            "43e3aee6d43348469eb9a3dc00f9859a",
            "13a133822174477bae7788430067137d",
            "18f28f9beaf74428bc34d5810bf3c540",
            "3c3cc4b30db744e6909109d3ce46d3ff",
            "35bd15bf1f3b4ac2a5bee14dd2cf9512",
            "111ae64ab97b47f2abbf1159ef57f42c",
            "49fc516347874149bf27b3bc1aa33912",
            "ab40bc85d4db4c96bda55e15cf4aad07"
          ]
        },
        "id": "ZGvCT6Y_rdUy",
        "outputId": "f1843b42-e24f-4a21-a431-963bd0bf6ef5"
      },
      "outputs": [
        {
          "name": "stderr",
          "output_type": "stream",
          "text": [
            "INFO:stanza:Checking for updates to resources.json in case models have been updated.  Note: this behavior can be turned off with download_method=None or download_method=DownloadMethod.REUSE_RESOURCES\n"
          ]
        },
        {
          "data": {
            "application/vnd.jupyter.widget-view+json": {
              "model_id": "eaf56e6679384cc98104a2fe43152992",
              "version_major": 2,
              "version_minor": 0
            },
            "text/plain": [
              "Downloading https://raw.githubusercontent.com/stanfordnlp/stanza-resources/main/resources_1.10.0.json:   0%|  …"
            ]
          },
          "metadata": {},
          "output_type": "display_data"
        },
        {
          "name": "stderr",
          "output_type": "stream",
          "text": [
            "INFO:stanza:Downloaded file to /root/stanza_resources/resources.json\n",
            "INFO:stanza:Loading these models for language: es (Spanish):\n",
            "=================================\n",
            "| Processor | Package           |\n",
            "---------------------------------\n",
            "| tokenize  | combined          |\n",
            "| mwt       | combined          |\n",
            "| pos       | combined_charlm   |\n",
            "| lemma     | combined_nocharlm |\n",
            "| depparse  | combined_charlm   |\n",
            "| ner       | conll02           |\n",
            "=================================\n",
            "\n",
            "INFO:stanza:Using device: cuda\n",
            "INFO:stanza:Loading: tokenize\n",
            "INFO:stanza:Loading: mwt\n",
            "INFO:stanza:Loading: pos\n",
            "INFO:stanza:Loading: lemma\n",
            "INFO:stanza:Loading: depparse\n",
            "INFO:stanza:Loading: ner\n",
            "INFO:stanza:Done loading processors!\n"
          ]
        }
      ],
      "source": [
        "###########################\n",
        "# SENTENCE SPLIT DISABLED #\n",
        "###########################\n",
        "nlp_stanza = stanza.Pipeline(lang='es', processors='tokenize,ner,mwt,pos,lemma,depparse', tokenize_no_ssplit=True, use_gpu=True)\n",
        "stanza_output = nlp_stanza(\"\\n\\n\".join(sentences))"
      ]
    },
    {
      "cell_type": "code",
      "execution_count": null,
      "metadata": {
        "id": "-LX2Fnbw96tr"
      },
      "outputs": [],
      "source": [
        "tag_dict = {} # Dictionary with a list of length 2 inside. Index 0 for count; index 1 for correct tag in model; index 2 for tag count in model test\n",
        "for i in range(len(list(stanza_output.sentences))):\n",
        "    if baseline.sentences[i].text != stanza_output.sentences[i].text:\n",
        "        print(\"Sentences are not equal\")\n",
        "    for j in range(len(list(baseline.sentences[i].words))):\n",
        "        try:\n",
        "            if baseline.sentences[i].words[j].deprel not in tag_dict.keys():\n",
        "                tag_dict.update({baseline.sentences[i].words[j].deprel : [1,0,0]})\n",
        "            else: tag_dict[baseline.sentences[i].words[j].deprel][0] += 1\n",
        "\n",
        "            if stanza_output.sentences[i].words[j].deprel not in tag_dict.keys():\n",
        "                tag_dict.update({stanza_output.sentences[i].words[j].deprel : [0,0,1]})\n",
        "            else: tag_dict[stanza_output.sentences[i].words[j].deprel][2] += 1\n",
        "\n",
        "            if baseline.sentences[i].words[j].deprel == stanza_output.sentences[i].words[j].deprel:\n",
        "                tag_dict[baseline.sentences[i].words[j].deprel][1] += 1\n",
        "        except IndexError:\n",
        "            if baseline.sentences[i].words[j].deprel not in tag_dict.keys():\n",
        "                tag_dict.update({baseline.sentences[i].words[j].deprel : [1,0,0]})\n",
        "            else: tag_dict[baseline.sentences[i].words[j].deprel][0] += 1\n",
        "            if  j<len(stanza_output.sentences[i].words):\n",
        "              if stanza_output.sentences[i].words[j].deprel not in tag_dict.keys():\n",
        "                  tag_dict.update({stanza_output.sentences[i].words[j].deprel : [0,0,1]})\n",
        "              else: tag_dict[stanza_output.sentences[i].words[j].deprel][2] += 1"
      ]
    },
    {
      "cell_type": "code",
      "execution_count": null,
      "metadata": {
        "colab": {
          "base_uri": "https://localhost:8080/"
        },
        "id": "Cu9T0Z5RrdUz",
        "outputId": "58d1171b-3262-4b81-ec39-914fd2b0c972"
      },
      "outputs": [
        {
          "name": "stdout",
          "output_type": "stream",
          "text": [
            "Accuracy of Stanza in Spanish subjects, objects and roots:\n",
            "\tnominal subjects: 0.9351116929874805\n",
            "\tclause subjects: 0.8351528384279476\n",
            "\tobjects: 0.9107836356865457\n",
            "\troot of sentence: 0.9624133827955484\n",
            "\n",
            "Recall of Stanza in Spanish subjects, objects and roots:\n",
            "\tnominal subjects: 0.9534854615994326\n",
            "\tclause subjects: 0.7758620689655172\n",
            "\tobjects: 0.85728592889334\n",
            "\troot of sentence: 0.9624133827955484\n",
            "\n",
            "F1 of Stanza in Spanish subjects, objects and roots:\n",
            "\tnominal subjects: 0.9442092000082623\n",
            "\tclause subjects: 0.804416403785489\n",
            "\tobjects: 0.883225423685093\n",
            "\troot of sentence: 0.9624133827955484\n",
            "\n"
          ]
        }
      ],
      "source": [
        "accuracy = {k:tag_dict[k][1]/tag_dict[k][2] if tag_dict[k][2] > 0 else 0 for k in tag_dict.keys()}\n",
        "print(f\"\"\"Precision of Stanza in Spanish subjects, objects and roots:\n",
        "\\tnominal subjects: {accuracy[\"nsubj\"]}\n",
        "\\tclause subjects: {accuracy[\"csubj\"]}\n",
        "\\tobjects: {accuracy[\"obj\"]}\n",
        "\\troot of sentence: {accuracy[\"root\"]}\n",
        "\"\"\")\n",
        "\n",
        "recall = {k:tag_dict[k][1]/tag_dict[k][0] for k in tag_dict.keys()}\n",
        "print(f\"\"\"Recall of Stanza in Spanish subjects, objects and roots:\n",
        "\\tnominal subjects: {recall[\"nsubj\"]}\n",
        "\\tclause subjects: {recall[\"csubj\"]}\n",
        "\\tobjects: {recall[\"obj\"]}\n",
        "\\troot of sentence: {recall[\"root\"]}\n",
        "\"\"\")\n",
        "\n",
        "f1 = {k:(2*recall[k]*accuracy[k])/(recall[k]+accuracy[k]) if (recall[k] > 0 and accuracy[k] > 0) else 0  for k in tag_dict.keys()}\n",
        "print(f\"\"\"F1 of Stanza in Spanish subjects, objects and roots:\n",
        "\\tnominal subjects: {f1[\"nsubj\"]}\n",
        "\\tclause subjects: {f1[\"csubj\"]}\n",
        "\\tobjects: {f1[\"obj\"]}\n",
        "\\troot of sentence: {f1[\"root\"]}\n",
        "\"\"\")\n"
      ]
    },
    {
      "cell_type": "code",
      "execution_count": null,
      "metadata": {
        "colab": {
          "base_uri": "https://localhost:8080/",
          "height": 451,
          "referenced_widgets": [
            "4a0a098690bb407ea3aca6c5952e8ff4",
            "d0c9d635520340258264eca6f0de6690",
            "07104d461db24728a4edf616a697c281",
            "ce182e5cf496439c9e0d6628c93123fe",
            "82662900be9d45299f2464e7aa3a7f57",
            "f2fdfa835be34001a0dd98d6cbd6197f",
            "e7a0feb1b8f1463589d4a65e41794852",
            "5615a782b1e74047a865ba28e2baf925",
            "5379081eb31646a29286309ff3d9edb4",
            "46388d6d81ac4677b663fc2bb02d81f4",
            "e6f26f3626a744dd9b04be311ec89b9e"
          ]
        },
        "id": "L18LorM47Qyv",
        "outputId": "e8628457-91ec-441d-e3d6-e2cc581c2294"
      },
      "outputs": [
        {
          "name": "stderr",
          "output_type": "stream",
          "text": [
            "INFO:stanza:Checking for updates to resources.json in case models have been updated.  Note: this behavior can be turned off with download_method=None or download_method=DownloadMethod.REUSE_RESOURCES\n"
          ]
        },
        {
          "data": {
            "application/vnd.jupyter.widget-view+json": {
              "model_id": "4a0a098690bb407ea3aca6c5952e8ff4",
              "version_major": 2,
              "version_minor": 0
            },
            "text/plain": [
              "Downloading https://raw.githubusercontent.com/stanfordnlp/stanza-resources/main/resources_1.10.0.json:   0%|  …"
            ]
          },
          "metadata": {},
          "output_type": "display_data"
        },
        {
          "name": "stderr",
          "output_type": "stream",
          "text": [
            "INFO:stanza:Downloaded file to /root/stanza_resources/resources.json\n",
            "INFO:stanza:Loading these models for language: es (Spanish):\n",
            "=================================\n",
            "| Processor | Package           |\n",
            "---------------------------------\n",
            "| tokenize  | combined          |\n",
            "| mwt       | combined          |\n",
            "| pos       | combined_charlm   |\n",
            "| lemma     | combined_nocharlm |\n",
            "| depparse  | combined_charlm   |\n",
            "| ner       | conll02           |\n",
            "=================================\n",
            "\n",
            "INFO:stanza:Using device: cuda\n",
            "INFO:stanza:Loading: tokenize\n",
            "INFO:stanza:Loading: mwt\n",
            "INFO:stanza:Loading: pos\n",
            "INFO:stanza:Loading: lemma\n",
            "INFO:stanza:Loading: depparse\n",
            "INFO:stanza:Loading: ner\n",
            "INFO:stanza:Done loading processors!\n"
          ]
        }
      ],
      "source": [
        "##########################\n",
        "# SENTENCE SPLIT ENABLED #\n",
        "##########################\n",
        "tag_dict = {} # Dictionary with a list of length 2 inside. Index 0 for count; index 1 for correct tag in model\n",
        "neqSents = 0\n",
        "nlp_stanza = stanza.Pipeline(lang='es', processors='tokenize,ner,mwt,pos,lemma,depparse', use_gpu=True)\n",
        "for i in range(len(list(baseline.sentences))):\n",
        "  stanza_output = nlp_stanza(list(baseline.sentences)[i].text)\n",
        "  if baseline.sentences[i].text != stanza_output.sentences[0].text:\n",
        "      neqSents+=1\n",
        "  for j in range(len(list(baseline.sentences[i].words))):\n",
        "      try:\n",
        "          if baseline.sentences[i].words[j].deprel not in tag_dict.keys():\n",
        "                tag_dict.update({baseline.sentences[i].words[j].deprel : [1,0,0]})\n",
        "          else: tag_dict[baseline.sentences[i].words[j].deprel][0] += 1\n",
        "\n",
        "          if stanza_output.sentences[0].words[j].deprel not in tag_dict.keys():\n",
        "              tag_dict.update({stanza_output.sentences[0].words[j].deprel : [0,0,1]})\n",
        "          else: tag_dict[stanza_output.sentences[0].words[j].deprel][2] += 1\n",
        "\n",
        "          if baseline.sentences[i].words[j].deprel == stanza_output.sentences[0].words[j].deprel:\n",
        "              tag_dict[baseline.sentences[i].words[j].deprel][1] += 1\n",
        "      except IndexError:\n",
        "          if baseline.sentences[i].words[j].deprel not in tag_dict.keys():\n",
        "              tag_dict.update({baseline.sentences[i].words[j].deprel : [1,0]})\n",
        "          else: tag_dict[baseline.sentences[i].words[j].deprel][0] += 1\n",
        "          if  j<len(stanza_output.sentences[0].words):\n",
        "            if stanza_output.sentences[0].words[j].deprel not in tag_dict.keys():\n",
        "                tag_dict.update({stanza_output.sentences[0].words[j].deprel : [0,0,1]})\n",
        "            else: tag_dict[stanza_output.sentences[0].words[j].deprel][2] += 1"
      ]
    },
    {
      "cell_type": "code",
      "execution_count": null,
      "metadata": {
        "colab": {
          "base_uri": "https://localhost:8080/"
        },
        "id": "CQaDvh73Ibsh",
        "outputId": "48807f18-a365-47e9-a20b-fcbd9c1a9576"
      },
      "outputs": [
        {
          "name": "stdout",
          "output_type": "stream",
          "text": [
            "Accuracy of Stanza in Spanish subjects, objects and roots:\n",
            "\tnominal subjects: 0.9354467332757699\n",
            "\tclause subjects: 0.8337004405286343\n",
            "\tobjects: 0.9108287056813328\n",
            "\troot of sentence: 0.958843704066634\n",
            "\n",
            "Recall of Stanza in Spanish subjects, objects and roots:\n",
            "\tnominal subjects: 0.9447305041109543\n",
            "\tclause subjects: 0.7608040201005025\n",
            "\tobjects: 0.8510277389742567\n",
            "\troot of sentence: 0.9554331147998326\n",
            "\n",
            "F1 of Stanza in Spanish subjects, objects and roots:\n",
            "\tnominal subjects: 0.9400656984071235\n",
            "\tclause subjects: 0.7955859169732002\n",
            "\tobjects: 0.8799133395233674\n",
            "\troot of sentence: 0.9571353711790392\n",
            "\n",
            "93 out of 14287 sentences were not equal, maybe due to a segmentation problem.\n"
          ]
        }
      ],
      "source": [
        "accuracy = {k:tag_dict[k][1]/tag_dict[k][2] if tag_dict[k][2] > 0 else 0 for k in tag_dict.keys()}\n",
        "print(f\"\"\"Precision of Stanza in Spanish subjects, objects and roots:\n",
        "\\tnominal subjects: {accuracy[\"nsubj\"]}\n",
        "\\tclause subjects: {accuracy[\"csubj\"]}\n",
        "\\tobjects: {accuracy[\"obj\"]}\n",
        "\\troot of sentence: {accuracy[\"root\"]}\n",
        "\"\"\")\n",
        "\n",
        "recall = {k:tag_dict[k][1]/tag_dict[k][0] for k in tag_dict.keys()}\n",
        "print(f\"\"\"Recall of Stanza in Spanish subjects, objects and roots:\n",
        "\\tnominal subjects: {recall[\"nsubj\"]}\n",
        "\\tclause subjects: {recall[\"csubj\"]}\n",
        "\\tobjects: {recall[\"obj\"]}\n",
        "\\troot of sentence: {recall[\"root\"]}\n",
        "\"\"\")\n",
        "\n",
        "f1 = {k:(2*recall[k]*accuracy[k])/(recall[k]+accuracy[k]) if (recall[k] > 0 and accuracy[k] > 0) else 0  for k in tag_dict.keys()}\n",
        "print(f\"\"\"F1 of Stanza in Spanish subjects, objects and roots:\n",
        "\\tnominal subjects: {f1[\"nsubj\"]}\n",
        "\\tclause subjects: {f1[\"csubj\"]}\n",
        "\\tobjects: {f1[\"obj\"]}\n",
        "\\troot of sentence: {f1[\"root\"]}\n",
        "\"\"\")\n",
        "\n",
        "print(f\"{neqSents} out of {len(sentences)} sentences were not equal, maybe due to a segmentation problem.\")"
      ]
    },
    {
      "cell_type": "markdown",
      "metadata": {
        "id": "OkMJ4ET7rdU0"
      },
      "source": [
        "## Spacy"
      ]
    },
    {
      "cell_type": "code",
      "execution_count": null,
      "metadata": {
        "id": "mVflSXrj1RyZ"
      },
      "outputs": [],
      "source": [
        "# Spacy sentencizer apparently can't be disabled so each sentence in the corpus is processed individually instead. Note that this may risk sentence segmenter interference\n",
        "spacy.require_gpu()\n",
        "nlp_spacy = spacy.load(\"es_dep_news_trf\")"
      ]
    },
    {
      "cell_type": "code",
      "execution_count": null,
      "metadata": {
        "id": "1wPhCJB8rdU0"
      },
      "outputs": [],
      "source": [
        "tag_dict = {} # Dictionary with a list of length 2 inside. Index 0 for count; index 1 for correct tag in model\n",
        "neqSents = 0\n",
        "for i in range(len(baseline.sentences)):\n",
        "    spacy_output = nlp_spacy(baseline.sentences[i].text.replace(\" del \", \" de el \"))\n",
        "    if baseline.sentences[i].text != list(spacy_output.sents)[0].text:\n",
        "         neqSents+=1\n",
        "    for j in range(len(baseline.sentences[i].words)):\n",
        "        if baseline.sentences[i].words[j].deprel not in tag_dict.keys():\n",
        "                tag_dict.update({baseline.sentences[i].words[j].deprel : [1,0,0]})\n",
        "        else: tag_dict[baseline.sentences[i].words[j].deprel][0] += 1\n",
        "        if j < len(list(spacy_output.sents)[0]):\n",
        "            if list(spacy_output.sents)[0][j].dep_.lower() not in tag_dict.keys():\n",
        "                tag_dict.update({list(spacy_output.sents)[0][j].dep_.lower(): [0,0,1]})\n",
        "            else: tag_dict[list(spacy_output.sents)[0][j].dep_.lower()] [2]+= 1\n",
        "            \"\"\"print(f\"{baseline.sentences[i].words[j].text} / {list(spacy_output.sents)[0][j+offset].text} with deprel {baseline.sentences[i].words[j].deprel} / {list(spacy_output.sents)[0][j+offset].dep_.lower()}\")\"\"\" # This is for debugging purposes\n",
        "            if baseline.sentences[i].words[j].deprel == list(spacy_output.sents)[0][j].dep_.lower():\n",
        "                tag_dict[baseline.sentences[i].words[j].deprel][1] += 1\n"
      ]
    },
    {
      "cell_type": "code",
      "execution_count": null,
      "metadata": {
        "colab": {
          "base_uri": "https://localhost:8080/"
        },
        "id": "qCA9NDJyrdU1",
        "outputId": "2512c2d3-f080-463a-cc54-b728f3fff02c"
      },
      "outputs": [
        {
          "name": "stdout",
          "output_type": "stream",
          "text": [
            "Accuracy of Spacy in Spanish subjects, objects and roots:\n",
            "\tnominal subjects: 0.893353941267388\n",
            "\tclause subjects: 0.8672032193158954\n",
            "\tobjects: 0.626152256834075\n",
            "\troot of sentence: 0.9418311633767324\n",
            "\n",
            "Recall of Spacy in Spanish subjects, objects and roots:\n",
            "\tnominal subjects: 0.8921613616453214\n",
            "\tclause subjects: 0.8742393509127789\n",
            "\tobjects: 0.7892917960532906\n",
            "\troot of sentence: 0.9417652411282984\n",
            "\n",
            "F1 of Spacy in Spanish subjects, objects and roots:\n",
            "\tnominal subjects: 0.8927572531830517\n",
            "\tclause subjects: 0.8707070707070708\n",
            "\tobjects: 0.6983205565648957\n",
            "\troot of sentence: 0.9417982010989395\n",
            "\n",
            "4424 out of 14287 sentences were not equal, maybe due to a segmentation problem.\n"
          ]
        }
      ],
      "source": [
        "accuracy = {k:tag_dict[k][1]/tag_dict[k][2] if tag_dict[k][2] > 0 else 0 for k in tag_dict.keys()}\n",
        "print(f\"\"\"Precision of Spacy in Spanish subjects, objects and roots:\n",
        "\\tnominal subjects: {accuracy[\"nsubj\"]}\n",
        "\\tclause subjects: {accuracy[\"csubj\"]}\n",
        "\\tobjects: {accuracy[\"obj\"]}\n",
        "\\troot of sentence: {accuracy[\"root\"]}\n",
        "\"\"\")\n",
        "\n",
        "recall = {k:tag_dict[k][1]/tag_dict[k][0]  if (tag_dict[k][0] > 0 and tag_dict[k][1] > 0) else 0  for k in tag_dict.keys()}\n",
        "print(f\"\"\"Recall of Spacy in Spanish subjects, objects and roots:\n",
        "\\tnominal subjects: {recall[\"nsubj\"]}\n",
        "\\tclause subjects: {recall[\"csubj\"]}\n",
        "\\tobjects: {recall[\"obj\"]}\n",
        "\\troot of sentence: {recall[\"root\"]}\n",
        "\"\"\")\n",
        "\n",
        "f1 = {k:(2*recall[k]*accuracy[k])/(recall[k]+accuracy[k]) if (recall[k] > 0 and accuracy[k] > 0) else 0  for k in tag_dict.keys()}\n",
        "print(f\"\"\"F1 of Spacy in Spanish subjects, objects and roots:\n",
        "\\tnominal subjects: {f1[\"nsubj\"]}\n",
        "\\tclause subjects: {f1[\"csubj\"]}\n",
        "\\tobjects: {f1[\"obj\"]}\n",
        "\\troot of sentence: {f1[\"root\"]}\n",
        "\"\"\")\n",
        "print(f\"{neqSents} out of {len(sentences)} sentences were not equal, maybe due to a segmentation problem.\")"
      ]
    }
  ],
  "metadata": {
    "accelerator": "GPU",
    "colab": {
      "gpuType": "T4",
      "provenance": []
    },
    "kernelspec": {
      "display_name": "Python 3",
      "name": "python3"
    },
    "language_info": {
      "codemirror_mode": {
        "name": "ipython",
        "version": 3
      },
      "file_extension": ".py",
      "mimetype": "text/x-python",
      "name": "python",
      "nbconvert_exporter": "python",
      "pygments_lexer": "ipython3",
      "version": "3.12.2"
    },
    "widgets": {
      "application/vnd.jupyter.widget-state+json": {
        "07104d461db24728a4edf616a697c281": {
          "model_module": "@jupyter-widgets/controls",
          "model_module_version": "1.5.0",
          "model_name": "FloatProgressModel",
          "state": {
            "_dom_classes": [],
            "_model_module": "@jupyter-widgets/controls",
            "_model_module_version": "1.5.0",
            "_model_name": "FloatProgressModel",
            "_view_count": null,
            "_view_module": "@jupyter-widgets/controls",
            "_view_module_version": "1.5.0",
            "_view_name": "ProgressView",
            "bar_style": "success",
            "description": "",
            "description_tooltip": null,
            "layout": "IPY_MODEL_5615a782b1e74047a865ba28e2baf925",
            "max": 52554,
            "min": 0,
            "orientation": "horizontal",
            "style": "IPY_MODEL_5379081eb31646a29286309ff3d9edb4",
            "value": 52554
          }
        },
        "111ae64ab97b47f2abbf1159ef57f42c": {
          "model_module": "@jupyter-widgets/controls",
          "model_module_version": "1.5.0",
          "model_name": "ProgressStyleModel",
          "state": {
            "_model_module": "@jupyter-widgets/controls",
            "_model_module_version": "1.5.0",
            "_model_name": "ProgressStyleModel",
            "_view_count": null,
            "_view_module": "@jupyter-widgets/base",
            "_view_module_version": "1.2.0",
            "_view_name": "StyleView",
            "bar_color": null,
            "description_width": ""
          }
        },
        "13a133822174477bae7788430067137d": {
          "model_module": "@jupyter-widgets/base",
          "model_module_version": "1.2.0",
          "model_name": "LayoutModel",
          "state": {
            "_model_module": "@jupyter-widgets/base",
            "_model_module_version": "1.2.0",
            "_model_name": "LayoutModel",
            "_view_count": null,
            "_view_module": "@jupyter-widgets/base",
            "_view_module_version": "1.2.0",
            "_view_name": "LayoutView",
            "align_content": null,
            "align_items": null,
            "align_self": null,
            "border": null,
            "bottom": null,
            "display": null,
            "flex": null,
            "flex_flow": null,
            "grid_area": null,
            "grid_auto_columns": null,
            "grid_auto_flow": null,
            "grid_auto_rows": null,
            "grid_column": null,
            "grid_gap": null,
            "grid_row": null,
            "grid_template_areas": null,
            "grid_template_columns": null,
            "grid_template_rows": null,
            "height": null,
            "justify_content": null,
            "justify_items": null,
            "left": null,
            "margin": null,
            "max_height": null,
            "max_width": null,
            "min_height": null,
            "min_width": null,
            "object_fit": null,
            "object_position": null,
            "order": null,
            "overflow": null,
            "overflow_x": null,
            "overflow_y": null,
            "padding": null,
            "right": null,
            "top": null,
            "visibility": null,
            "width": null
          }
        },
        "13df6adf0653471195f8ec3fe0a8a54e": {
          "model_module": "@jupyter-widgets/controls",
          "model_module_version": "1.5.0",
          "model_name": "DescriptionStyleModel",
          "state": {
            "_model_module": "@jupyter-widgets/controls",
            "_model_module_version": "1.5.0",
            "_model_name": "DescriptionStyleModel",
            "_view_count": null,
            "_view_module": "@jupyter-widgets/base",
            "_view_module_version": "1.2.0",
            "_view_name": "StyleView",
            "description_width": ""
          }
        },
        "18f28f9beaf74428bc34d5810bf3c540": {
          "model_module": "@jupyter-widgets/base",
          "model_module_version": "1.2.0",
          "model_name": "LayoutModel",
          "state": {
            "_model_module": "@jupyter-widgets/base",
            "_model_module_version": "1.2.0",
            "_model_name": "LayoutModel",
            "_view_count": null,
            "_view_module": "@jupyter-widgets/base",
            "_view_module_version": "1.2.0",
            "_view_name": "LayoutView",
            "align_content": null,
            "align_items": null,
            "align_self": null,
            "border": null,
            "bottom": null,
            "display": null,
            "flex": null,
            "flex_flow": null,
            "grid_area": null,
            "grid_auto_columns": null,
            "grid_auto_flow": null,
            "grid_auto_rows": null,
            "grid_column": null,
            "grid_gap": null,
            "grid_row": null,
            "grid_template_areas": null,
            "grid_template_columns": null,
            "grid_template_rows": null,
            "height": null,
            "justify_content": null,
            "justify_items": null,
            "left": null,
            "margin": null,
            "max_height": null,
            "max_width": null,
            "min_height": null,
            "min_width": null,
            "object_fit": null,
            "object_position": null,
            "order": null,
            "overflow": null,
            "overflow_x": null,
            "overflow_y": null,
            "padding": null,
            "right": null,
            "top": null,
            "visibility": null,
            "width": null
          }
        },
        "1a5fce4229f4455b8f271b5d603ede53": {
          "model_module": "@jupyter-widgets/base",
          "model_module_version": "1.2.0",
          "model_name": "LayoutModel",
          "state": {
            "_model_module": "@jupyter-widgets/base",
            "_model_module_version": "1.2.0",
            "_model_name": "LayoutModel",
            "_view_count": null,
            "_view_module": "@jupyter-widgets/base",
            "_view_module_version": "1.2.0",
            "_view_name": "LayoutView",
            "align_content": null,
            "align_items": null,
            "align_self": null,
            "border": null,
            "bottom": null,
            "display": null,
            "flex": null,
            "flex_flow": null,
            "grid_area": null,
            "grid_auto_columns": null,
            "grid_auto_flow": null,
            "grid_auto_rows": null,
            "grid_column": null,
            "grid_gap": null,
            "grid_row": null,
            "grid_template_areas": null,
            "grid_template_columns": null,
            "grid_template_rows": null,
            "height": null,
            "justify_content": null,
            "justify_items": null,
            "left": null,
            "margin": null,
            "max_height": null,
            "max_width": null,
            "min_height": null,
            "min_width": null,
            "object_fit": null,
            "object_position": null,
            "order": null,
            "overflow": null,
            "overflow_x": null,
            "overflow_y": null,
            "padding": null,
            "right": null,
            "top": null,
            "visibility": null,
            "width": null
          }
        },
        "32b57423b0dd4d0faa68270ac0528113": {
          "model_module": "@jupyter-widgets/controls",
          "model_module_version": "1.5.0",
          "model_name": "HTMLModel",
          "state": {
            "_dom_classes": [],
            "_model_module": "@jupyter-widgets/controls",
            "_model_module_version": "1.5.0",
            "_model_name": "HTMLModel",
            "_view_count": null,
            "_view_module": "@jupyter-widgets/controls",
            "_view_module_version": "1.5.0",
            "_view_name": "HTMLView",
            "description": "",
            "description_tooltip": null,
            "layout": "IPY_MODEL_1a5fce4229f4455b8f271b5d603ede53",
            "placeholder": "​",
            "style": "IPY_MODEL_13df6adf0653471195f8ec3fe0a8a54e",
            "value": "Downloading https://raw.githubusercontent.com/stanfordnlp/stanza-resources/main/resources_1.10.0.json: "
          }
        },
        "35bd15bf1f3b4ac2a5bee14dd2cf9512": {
          "model_module": "@jupyter-widgets/base",
          "model_module_version": "1.2.0",
          "model_name": "LayoutModel",
          "state": {
            "_model_module": "@jupyter-widgets/base",
            "_model_module_version": "1.2.0",
            "_model_name": "LayoutModel",
            "_view_count": null,
            "_view_module": "@jupyter-widgets/base",
            "_view_module_version": "1.2.0",
            "_view_name": "LayoutView",
            "align_content": null,
            "align_items": null,
            "align_self": null,
            "border": null,
            "bottom": null,
            "display": null,
            "flex": null,
            "flex_flow": null,
            "grid_area": null,
            "grid_auto_columns": null,
            "grid_auto_flow": null,
            "grid_auto_rows": null,
            "grid_column": null,
            "grid_gap": null,
            "grid_row": null,
            "grid_template_areas": null,
            "grid_template_columns": null,
            "grid_template_rows": null,
            "height": null,
            "justify_content": null,
            "justify_items": null,
            "left": null,
            "margin": null,
            "max_height": null,
            "max_width": null,
            "min_height": null,
            "min_width": null,
            "object_fit": null,
            "object_position": null,
            "order": null,
            "overflow": null,
            "overflow_x": null,
            "overflow_y": null,
            "padding": null,
            "right": null,
            "top": null,
            "visibility": null,
            "width": null
          }
        },
        "3c3cc4b30db744e6909109d3ce46d3ff": {
          "model_module": "@jupyter-widgets/controls",
          "model_module_version": "1.5.0",
          "model_name": "DescriptionStyleModel",
          "state": {
            "_model_module": "@jupyter-widgets/controls",
            "_model_module_version": "1.5.0",
            "_model_name": "DescriptionStyleModel",
            "_view_count": null,
            "_view_module": "@jupyter-widgets/base",
            "_view_module_version": "1.2.0",
            "_view_name": "StyleView",
            "description_width": ""
          }
        },
        "43e3aee6d43348469eb9a3dc00f9859a": {
          "model_module": "@jupyter-widgets/controls",
          "model_module_version": "1.5.0",
          "model_name": "HTMLModel",
          "state": {
            "_dom_classes": [],
            "_model_module": "@jupyter-widgets/controls",
            "_model_module_version": "1.5.0",
            "_model_name": "HTMLModel",
            "_view_count": null,
            "_view_module": "@jupyter-widgets/controls",
            "_view_module_version": "1.5.0",
            "_view_name": "HTMLView",
            "description": "",
            "description_tooltip": null,
            "layout": "IPY_MODEL_49fc516347874149bf27b3bc1aa33912",
            "placeholder": "​",
            "style": "IPY_MODEL_ab40bc85d4db4c96bda55e15cf4aad07",
            "value": " 424k/? [00:00&lt;00:00, 18.7MB/s]"
          }
        },
        "46388d6d81ac4677b663fc2bb02d81f4": {
          "model_module": "@jupyter-widgets/base",
          "model_module_version": "1.2.0",
          "model_name": "LayoutModel",
          "state": {
            "_model_module": "@jupyter-widgets/base",
            "_model_module_version": "1.2.0",
            "_model_name": "LayoutModel",
            "_view_count": null,
            "_view_module": "@jupyter-widgets/base",
            "_view_module_version": "1.2.0",
            "_view_name": "LayoutView",
            "align_content": null,
            "align_items": null,
            "align_self": null,
            "border": null,
            "bottom": null,
            "display": null,
            "flex": null,
            "flex_flow": null,
            "grid_area": null,
            "grid_auto_columns": null,
            "grid_auto_flow": null,
            "grid_auto_rows": null,
            "grid_column": null,
            "grid_gap": null,
            "grid_row": null,
            "grid_template_areas": null,
            "grid_template_columns": null,
            "grid_template_rows": null,
            "height": null,
            "justify_content": null,
            "justify_items": null,
            "left": null,
            "margin": null,
            "max_height": null,
            "max_width": null,
            "min_height": null,
            "min_width": null,
            "object_fit": null,
            "object_position": null,
            "order": null,
            "overflow": null,
            "overflow_x": null,
            "overflow_y": null,
            "padding": null,
            "right": null,
            "top": null,
            "visibility": null,
            "width": null
          }
        },
        "48df388883fe48ea9ef80cdf4d468964": {
          "model_module": "@jupyter-widgets/controls",
          "model_module_version": "1.5.0",
          "model_name": "DescriptionStyleModel",
          "state": {
            "_model_module": "@jupyter-widgets/controls",
            "_model_module_version": "1.5.0",
            "_model_name": "DescriptionStyleModel",
            "_view_count": null,
            "_view_module": "@jupyter-widgets/base",
            "_view_module_version": "1.2.0",
            "_view_name": "StyleView",
            "description_width": ""
          }
        },
        "49536c918ecd41b98ddd32866baccc88": {
          "model_module": "@jupyter-widgets/controls",
          "model_module_version": "1.5.0",
          "model_name": "ProgressStyleModel",
          "state": {
            "_model_module": "@jupyter-widgets/controls",
            "_model_module_version": "1.5.0",
            "_model_name": "ProgressStyleModel",
            "_view_count": null,
            "_view_module": "@jupyter-widgets/base",
            "_view_module_version": "1.2.0",
            "_view_name": "StyleView",
            "bar_color": null,
            "description_width": ""
          }
        },
        "49fc516347874149bf27b3bc1aa33912": {
          "model_module": "@jupyter-widgets/base",
          "model_module_version": "1.2.0",
          "model_name": "LayoutModel",
          "state": {
            "_model_module": "@jupyter-widgets/base",
            "_model_module_version": "1.2.0",
            "_model_name": "LayoutModel",
            "_view_count": null,
            "_view_module": "@jupyter-widgets/base",
            "_view_module_version": "1.2.0",
            "_view_name": "LayoutView",
            "align_content": null,
            "align_items": null,
            "align_self": null,
            "border": null,
            "bottom": null,
            "display": null,
            "flex": null,
            "flex_flow": null,
            "grid_area": null,
            "grid_auto_columns": null,
            "grid_auto_flow": null,
            "grid_auto_rows": null,
            "grid_column": null,
            "grid_gap": null,
            "grid_row": null,
            "grid_template_areas": null,
            "grid_template_columns": null,
            "grid_template_rows": null,
            "height": null,
            "justify_content": null,
            "justify_items": null,
            "left": null,
            "margin": null,
            "max_height": null,
            "max_width": null,
            "min_height": null,
            "min_width": null,
            "object_fit": null,
            "object_position": null,
            "order": null,
            "overflow": null,
            "overflow_x": null,
            "overflow_y": null,
            "padding": null,
            "right": null,
            "top": null,
            "visibility": null,
            "width": null
          }
        },
        "4a0a098690bb407ea3aca6c5952e8ff4": {
          "model_module": "@jupyter-widgets/controls",
          "model_module_version": "1.5.0",
          "model_name": "HBoxModel",
          "state": {
            "_dom_classes": [],
            "_model_module": "@jupyter-widgets/controls",
            "_model_module_version": "1.5.0",
            "_model_name": "HBoxModel",
            "_view_count": null,
            "_view_module": "@jupyter-widgets/controls",
            "_view_module_version": "1.5.0",
            "_view_name": "HBoxView",
            "box_style": "",
            "children": [
              "IPY_MODEL_d0c9d635520340258264eca6f0de6690",
              "IPY_MODEL_07104d461db24728a4edf616a697c281",
              "IPY_MODEL_ce182e5cf496439c9e0d6628c93123fe"
            ],
            "layout": "IPY_MODEL_82662900be9d45299f2464e7aa3a7f57"
          }
        },
        "516ddba93cc646de8835faaed0a61afa": {
          "model_module": "@jupyter-widgets/base",
          "model_module_version": "1.2.0",
          "model_name": "LayoutModel",
          "state": {
            "_model_module": "@jupyter-widgets/base",
            "_model_module_version": "1.2.0",
            "_model_name": "LayoutModel",
            "_view_count": null,
            "_view_module": "@jupyter-widgets/base",
            "_view_module_version": "1.2.0",
            "_view_name": "LayoutView",
            "align_content": null,
            "align_items": null,
            "align_self": null,
            "border": null,
            "bottom": null,
            "display": null,
            "flex": null,
            "flex_flow": null,
            "grid_area": null,
            "grid_auto_columns": null,
            "grid_auto_flow": null,
            "grid_auto_rows": null,
            "grid_column": null,
            "grid_gap": null,
            "grid_row": null,
            "grid_template_areas": null,
            "grid_template_columns": null,
            "grid_template_rows": null,
            "height": null,
            "justify_content": null,
            "justify_items": null,
            "left": null,
            "margin": null,
            "max_height": null,
            "max_width": null,
            "min_height": null,
            "min_width": null,
            "object_fit": null,
            "object_position": null,
            "order": null,
            "overflow": null,
            "overflow_x": null,
            "overflow_y": null,
            "padding": null,
            "right": null,
            "top": null,
            "visibility": null,
            "width": null
          }
        },
        "5328f05394b94c8db0119837a4b32abb": {
          "model_module": "@jupyter-widgets/controls",
          "model_module_version": "1.5.0",
          "model_name": "FloatProgressModel",
          "state": {
            "_dom_classes": [],
            "_model_module": "@jupyter-widgets/controls",
            "_model_module_version": "1.5.0",
            "_model_name": "FloatProgressModel",
            "_view_count": null,
            "_view_module": "@jupyter-widgets/controls",
            "_view_module_version": "1.5.0",
            "_view_name": "ProgressView",
            "bar_style": "success",
            "description": "",
            "description_tooltip": null,
            "layout": "IPY_MODEL_35bd15bf1f3b4ac2a5bee14dd2cf9512",
            "max": 52554,
            "min": 0,
            "orientation": "horizontal",
            "style": "IPY_MODEL_111ae64ab97b47f2abbf1159ef57f42c",
            "value": 52554
          }
        },
        "5379081eb31646a29286309ff3d9edb4": {
          "model_module": "@jupyter-widgets/controls",
          "model_module_version": "1.5.0",
          "model_name": "ProgressStyleModel",
          "state": {
            "_model_module": "@jupyter-widgets/controls",
            "_model_module_version": "1.5.0",
            "_model_name": "ProgressStyleModel",
            "_view_count": null,
            "_view_module": "@jupyter-widgets/base",
            "_view_module_version": "1.2.0",
            "_view_name": "StyleView",
            "bar_color": null,
            "description_width": ""
          }
        },
        "5385edd06d2b464ea647f6d4424da732": {
          "model_module": "@jupyter-widgets/controls",
          "model_module_version": "1.5.0",
          "model_name": "HTMLModel",
          "state": {
            "_dom_classes": [],
            "_model_module": "@jupyter-widgets/controls",
            "_model_module_version": "1.5.0",
            "_model_name": "HTMLModel",
            "_view_count": null,
            "_view_module": "@jupyter-widgets/controls",
            "_view_module_version": "1.5.0",
            "_view_name": "HTMLView",
            "description": "",
            "description_tooltip": null,
            "layout": "IPY_MODEL_97683e4f51e84d37beb329cd107064b0",
            "placeholder": "​",
            "style": "IPY_MODEL_6455bcb0e98643089d2dbc4cb34564d6",
            "value": "Downloading https://raw.githubusercontent.com/stanfordnlp/stanza-resources/main/resources_1.10.0.json: "
          }
        },
        "5615a782b1e74047a865ba28e2baf925": {
          "model_module": "@jupyter-widgets/base",
          "model_module_version": "1.2.0",
          "model_name": "LayoutModel",
          "state": {
            "_model_module": "@jupyter-widgets/base",
            "_model_module_version": "1.2.0",
            "_model_name": "LayoutModel",
            "_view_count": null,
            "_view_module": "@jupyter-widgets/base",
            "_view_module_version": "1.2.0",
            "_view_name": "LayoutView",
            "align_content": null,
            "align_items": null,
            "align_self": null,
            "border": null,
            "bottom": null,
            "display": null,
            "flex": null,
            "flex_flow": null,
            "grid_area": null,
            "grid_auto_columns": null,
            "grid_auto_flow": null,
            "grid_auto_rows": null,
            "grid_column": null,
            "grid_gap": null,
            "grid_row": null,
            "grid_template_areas": null,
            "grid_template_columns": null,
            "grid_template_rows": null,
            "height": null,
            "justify_content": null,
            "justify_items": null,
            "left": null,
            "margin": null,
            "max_height": null,
            "max_width": null,
            "min_height": null,
            "min_width": null,
            "object_fit": null,
            "object_position": null,
            "order": null,
            "overflow": null,
            "overflow_x": null,
            "overflow_y": null,
            "padding": null,
            "right": null,
            "top": null,
            "visibility": null,
            "width": null
          }
        },
        "6455bcb0e98643089d2dbc4cb34564d6": {
          "model_module": "@jupyter-widgets/controls",
          "model_module_version": "1.5.0",
          "model_name": "DescriptionStyleModel",
          "state": {
            "_model_module": "@jupyter-widgets/controls",
            "_model_module_version": "1.5.0",
            "_model_name": "DescriptionStyleModel",
            "_view_count": null,
            "_view_module": "@jupyter-widgets/base",
            "_view_module_version": "1.2.0",
            "_view_name": "StyleView",
            "description_width": ""
          }
        },
        "77f8cbedf71f444290890afd51871cb0": {
          "model_module": "@jupyter-widgets/base",
          "model_module_version": "1.2.0",
          "model_name": "LayoutModel",
          "state": {
            "_model_module": "@jupyter-widgets/base",
            "_model_module_version": "1.2.0",
            "_model_name": "LayoutModel",
            "_view_count": null,
            "_view_module": "@jupyter-widgets/base",
            "_view_module_version": "1.2.0",
            "_view_name": "LayoutView",
            "align_content": null,
            "align_items": null,
            "align_self": null,
            "border": null,
            "bottom": null,
            "display": null,
            "flex": null,
            "flex_flow": null,
            "grid_area": null,
            "grid_auto_columns": null,
            "grid_auto_flow": null,
            "grid_auto_rows": null,
            "grid_column": null,
            "grid_gap": null,
            "grid_row": null,
            "grid_template_areas": null,
            "grid_template_columns": null,
            "grid_template_rows": null,
            "height": null,
            "justify_content": null,
            "justify_items": null,
            "left": null,
            "margin": null,
            "max_height": null,
            "max_width": null,
            "min_height": null,
            "min_width": null,
            "object_fit": null,
            "object_position": null,
            "order": null,
            "overflow": null,
            "overflow_x": null,
            "overflow_y": null,
            "padding": null,
            "right": null,
            "top": null,
            "visibility": null,
            "width": null
          }
        },
        "7c090b85df1041caa0d22aa593e8591a": {
          "model_module": "@jupyter-widgets/controls",
          "model_module_version": "1.5.0",
          "model_name": "HBoxModel",
          "state": {
            "_dom_classes": [],
            "_model_module": "@jupyter-widgets/controls",
            "_model_module_version": "1.5.0",
            "_model_name": "HBoxModel",
            "_view_count": null,
            "_view_module": "@jupyter-widgets/controls",
            "_view_module_version": "1.5.0",
            "_view_name": "HBoxView",
            "box_style": "",
            "children": [
              "IPY_MODEL_5385edd06d2b464ea647f6d4424da732",
              "IPY_MODEL_9f7ce6d633c04b0cb42c2d336a52b95e",
              "IPY_MODEL_b1cfa7c8bdba4e16a2ade12ba9282e2c"
            ],
            "layout": "IPY_MODEL_a737c7e5efe846a89e692e7d96c0e559"
          }
        },
        "82662900be9d45299f2464e7aa3a7f57": {
          "model_module": "@jupyter-widgets/base",
          "model_module_version": "1.2.0",
          "model_name": "LayoutModel",
          "state": {
            "_model_module": "@jupyter-widgets/base",
            "_model_module_version": "1.2.0",
            "_model_name": "LayoutModel",
            "_view_count": null,
            "_view_module": "@jupyter-widgets/base",
            "_view_module_version": "1.2.0",
            "_view_name": "LayoutView",
            "align_content": null,
            "align_items": null,
            "align_self": null,
            "border": null,
            "bottom": null,
            "display": null,
            "flex": null,
            "flex_flow": null,
            "grid_area": null,
            "grid_auto_columns": null,
            "grid_auto_flow": null,
            "grid_auto_rows": null,
            "grid_column": null,
            "grid_gap": null,
            "grid_row": null,
            "grid_template_areas": null,
            "grid_template_columns": null,
            "grid_template_rows": null,
            "height": null,
            "justify_content": null,
            "justify_items": null,
            "left": null,
            "margin": null,
            "max_height": null,
            "max_width": null,
            "min_height": null,
            "min_width": null,
            "object_fit": null,
            "object_position": null,
            "order": null,
            "overflow": null,
            "overflow_x": null,
            "overflow_y": null,
            "padding": null,
            "right": null,
            "top": null,
            "visibility": null,
            "width": null
          }
        },
        "97683e4f51e84d37beb329cd107064b0": {
          "model_module": "@jupyter-widgets/base",
          "model_module_version": "1.2.0",
          "model_name": "LayoutModel",
          "state": {
            "_model_module": "@jupyter-widgets/base",
            "_model_module_version": "1.2.0",
            "_model_name": "LayoutModel",
            "_view_count": null,
            "_view_module": "@jupyter-widgets/base",
            "_view_module_version": "1.2.0",
            "_view_name": "LayoutView",
            "align_content": null,
            "align_items": null,
            "align_self": null,
            "border": null,
            "bottom": null,
            "display": null,
            "flex": null,
            "flex_flow": null,
            "grid_area": null,
            "grid_auto_columns": null,
            "grid_auto_flow": null,
            "grid_auto_rows": null,
            "grid_column": null,
            "grid_gap": null,
            "grid_row": null,
            "grid_template_areas": null,
            "grid_template_columns": null,
            "grid_template_rows": null,
            "height": null,
            "justify_content": null,
            "justify_items": null,
            "left": null,
            "margin": null,
            "max_height": null,
            "max_width": null,
            "min_height": null,
            "min_width": null,
            "object_fit": null,
            "object_position": null,
            "order": null,
            "overflow": null,
            "overflow_x": null,
            "overflow_y": null,
            "padding": null,
            "right": null,
            "top": null,
            "visibility": null,
            "width": null
          }
        },
        "9f7ce6d633c04b0cb42c2d336a52b95e": {
          "model_module": "@jupyter-widgets/controls",
          "model_module_version": "1.5.0",
          "model_name": "FloatProgressModel",
          "state": {
            "_dom_classes": [],
            "_model_module": "@jupyter-widgets/controls",
            "_model_module_version": "1.5.0",
            "_model_name": "FloatProgressModel",
            "_view_count": null,
            "_view_module": "@jupyter-widgets/controls",
            "_view_module_version": "1.5.0",
            "_view_name": "ProgressView",
            "bar_style": "success",
            "description": "",
            "description_tooltip": null,
            "layout": "IPY_MODEL_d6067157b11b4e46b7474ff900d9a630",
            "max": 52554,
            "min": 0,
            "orientation": "horizontal",
            "style": "IPY_MODEL_49536c918ecd41b98ddd32866baccc88",
            "value": 52554
          }
        },
        "a3dae3511ffc48e0b509b6142839a958": {
          "model_module": "@jupyter-widgets/controls",
          "model_module_version": "1.5.0",
          "model_name": "ProgressStyleModel",
          "state": {
            "_model_module": "@jupyter-widgets/controls",
            "_model_module_version": "1.5.0",
            "_model_name": "ProgressStyleModel",
            "_view_count": null,
            "_view_module": "@jupyter-widgets/base",
            "_view_module_version": "1.2.0",
            "_view_name": "StyleView",
            "bar_color": null,
            "description_width": ""
          }
        },
        "a5556fa28d2d4f998f1e642309f7a556": {
          "model_module": "@jupyter-widgets/base",
          "model_module_version": "1.2.0",
          "model_name": "LayoutModel",
          "state": {
            "_model_module": "@jupyter-widgets/base",
            "_model_module_version": "1.2.0",
            "_model_name": "LayoutModel",
            "_view_count": null,
            "_view_module": "@jupyter-widgets/base",
            "_view_module_version": "1.2.0",
            "_view_name": "LayoutView",
            "align_content": null,
            "align_items": null,
            "align_self": null,
            "border": null,
            "bottom": null,
            "display": null,
            "flex": null,
            "flex_flow": null,
            "grid_area": null,
            "grid_auto_columns": null,
            "grid_auto_flow": null,
            "grid_auto_rows": null,
            "grid_column": null,
            "grid_gap": null,
            "grid_row": null,
            "grid_template_areas": null,
            "grid_template_columns": null,
            "grid_template_rows": null,
            "height": null,
            "justify_content": null,
            "justify_items": null,
            "left": null,
            "margin": null,
            "max_height": null,
            "max_width": null,
            "min_height": null,
            "min_width": null,
            "object_fit": null,
            "object_position": null,
            "order": null,
            "overflow": null,
            "overflow_x": null,
            "overflow_y": null,
            "padding": null,
            "right": null,
            "top": null,
            "visibility": null,
            "width": null
          }
        },
        "a737c7e5efe846a89e692e7d96c0e559": {
          "model_module": "@jupyter-widgets/base",
          "model_module_version": "1.2.0",
          "model_name": "LayoutModel",
          "state": {
            "_model_module": "@jupyter-widgets/base",
            "_model_module_version": "1.2.0",
            "_model_name": "LayoutModel",
            "_view_count": null,
            "_view_module": "@jupyter-widgets/base",
            "_view_module_version": "1.2.0",
            "_view_name": "LayoutView",
            "align_content": null,
            "align_items": null,
            "align_self": null,
            "border": null,
            "bottom": null,
            "display": null,
            "flex": null,
            "flex_flow": null,
            "grid_area": null,
            "grid_auto_columns": null,
            "grid_auto_flow": null,
            "grid_auto_rows": null,
            "grid_column": null,
            "grid_gap": null,
            "grid_row": null,
            "grid_template_areas": null,
            "grid_template_columns": null,
            "grid_template_rows": null,
            "height": null,
            "justify_content": null,
            "justify_items": null,
            "left": null,
            "margin": null,
            "max_height": null,
            "max_width": null,
            "min_height": null,
            "min_width": null,
            "object_fit": null,
            "object_position": null,
            "order": null,
            "overflow": null,
            "overflow_x": null,
            "overflow_y": null,
            "padding": null,
            "right": null,
            "top": null,
            "visibility": null,
            "width": null
          }
        },
        "ab40bc85d4db4c96bda55e15cf4aad07": {
          "model_module": "@jupyter-widgets/controls",
          "model_module_version": "1.5.0",
          "model_name": "DescriptionStyleModel",
          "state": {
            "_model_module": "@jupyter-widgets/controls",
            "_model_module_version": "1.5.0",
            "_model_name": "DescriptionStyleModel",
            "_view_count": null,
            "_view_module": "@jupyter-widgets/base",
            "_view_module_version": "1.2.0",
            "_view_name": "StyleView",
            "description_width": ""
          }
        },
        "b05cd82580774099a30e6315c0263973": {
          "model_module": "@jupyter-widgets/controls",
          "model_module_version": "1.5.0",
          "model_name": "HTMLModel",
          "state": {
            "_dom_classes": [],
            "_model_module": "@jupyter-widgets/controls",
            "_model_module_version": "1.5.0",
            "_model_name": "HTMLModel",
            "_view_count": null,
            "_view_module": "@jupyter-widgets/controls",
            "_view_module_version": "1.5.0",
            "_view_name": "HTMLView",
            "description": "",
            "description_tooltip": null,
            "layout": "IPY_MODEL_18f28f9beaf74428bc34d5810bf3c540",
            "placeholder": "​",
            "style": "IPY_MODEL_3c3cc4b30db744e6909109d3ce46d3ff",
            "value": "Downloading https://raw.githubusercontent.com/stanfordnlp/stanza-resources/main/resources_1.10.0.json: "
          }
        },
        "b1cfa7c8bdba4e16a2ade12ba9282e2c": {
          "model_module": "@jupyter-widgets/controls",
          "model_module_version": "1.5.0",
          "model_name": "HTMLModel",
          "state": {
            "_dom_classes": [],
            "_model_module": "@jupyter-widgets/controls",
            "_model_module_version": "1.5.0",
            "_model_name": "HTMLModel",
            "_view_count": null,
            "_view_module": "@jupyter-widgets/controls",
            "_view_module_version": "1.5.0",
            "_view_name": "HTMLView",
            "description": "",
            "description_tooltip": null,
            "layout": "IPY_MODEL_77f8cbedf71f444290890afd51871cb0",
            "placeholder": "​",
            "style": "IPY_MODEL_48df388883fe48ea9ef80cdf4d468964",
            "value": " 424k/? [00:00&lt;00:00, 20.9MB/s]"
          }
        },
        "ce182e5cf496439c9e0d6628c93123fe": {
          "model_module": "@jupyter-widgets/controls",
          "model_module_version": "1.5.0",
          "model_name": "HTMLModel",
          "state": {
            "_dom_classes": [],
            "_model_module": "@jupyter-widgets/controls",
            "_model_module_version": "1.5.0",
            "_model_name": "HTMLModel",
            "_view_count": null,
            "_view_module": "@jupyter-widgets/controls",
            "_view_module_version": "1.5.0",
            "_view_name": "HTMLView",
            "description": "",
            "description_tooltip": null,
            "layout": "IPY_MODEL_46388d6d81ac4677b663fc2bb02d81f4",
            "placeholder": "​",
            "style": "IPY_MODEL_e6f26f3626a744dd9b04be311ec89b9e",
            "value": " 424k/? [00:00&lt;00:00, 31.8MB/s]"
          }
        },
        "ce1a1e858de14674b2baf4897b9a81d3": {
          "model_module": "@jupyter-widgets/controls",
          "model_module_version": "1.5.0",
          "model_name": "HBoxModel",
          "state": {
            "_dom_classes": [],
            "_model_module": "@jupyter-widgets/controls",
            "_model_module_version": "1.5.0",
            "_model_name": "HBoxModel",
            "_view_count": null,
            "_view_module": "@jupyter-widgets/controls",
            "_view_module_version": "1.5.0",
            "_view_name": "HBoxView",
            "box_style": "",
            "children": [
              "IPY_MODEL_32b57423b0dd4d0faa68270ac0528113",
              "IPY_MODEL_fcbad918674748a7ad7ea80792ee812c",
              "IPY_MODEL_ffdf4f2be6b748feb8357c64589e3a3b"
            ],
            "layout": "IPY_MODEL_516ddba93cc646de8835faaed0a61afa"
          }
        },
        "d0c9d635520340258264eca6f0de6690": {
          "model_module": "@jupyter-widgets/controls",
          "model_module_version": "1.5.0",
          "model_name": "HTMLModel",
          "state": {
            "_dom_classes": [],
            "_model_module": "@jupyter-widgets/controls",
            "_model_module_version": "1.5.0",
            "_model_name": "HTMLModel",
            "_view_count": null,
            "_view_module": "@jupyter-widgets/controls",
            "_view_module_version": "1.5.0",
            "_view_name": "HTMLView",
            "description": "",
            "description_tooltip": null,
            "layout": "IPY_MODEL_f2fdfa835be34001a0dd98d6cbd6197f",
            "placeholder": "​",
            "style": "IPY_MODEL_e7a0feb1b8f1463589d4a65e41794852",
            "value": "Downloading https://raw.githubusercontent.com/stanfordnlp/stanza-resources/main/resources_1.10.0.json: "
          }
        },
        "d6067157b11b4e46b7474ff900d9a630": {
          "model_module": "@jupyter-widgets/base",
          "model_module_version": "1.2.0",
          "model_name": "LayoutModel",
          "state": {
            "_model_module": "@jupyter-widgets/base",
            "_model_module_version": "1.2.0",
            "_model_name": "LayoutModel",
            "_view_count": null,
            "_view_module": "@jupyter-widgets/base",
            "_view_module_version": "1.2.0",
            "_view_name": "LayoutView",
            "align_content": null,
            "align_items": null,
            "align_self": null,
            "border": null,
            "bottom": null,
            "display": null,
            "flex": null,
            "flex_flow": null,
            "grid_area": null,
            "grid_auto_columns": null,
            "grid_auto_flow": null,
            "grid_auto_rows": null,
            "grid_column": null,
            "grid_gap": null,
            "grid_row": null,
            "grid_template_areas": null,
            "grid_template_columns": null,
            "grid_template_rows": null,
            "height": null,
            "justify_content": null,
            "justify_items": null,
            "left": null,
            "margin": null,
            "max_height": null,
            "max_width": null,
            "min_height": null,
            "min_width": null,
            "object_fit": null,
            "object_position": null,
            "order": null,
            "overflow": null,
            "overflow_x": null,
            "overflow_y": null,
            "padding": null,
            "right": null,
            "top": null,
            "visibility": null,
            "width": null
          }
        },
        "e01a5ca53849422dadeb78f73264a55e": {
          "model_module": "@jupyter-widgets/base",
          "model_module_version": "1.2.0",
          "model_name": "LayoutModel",
          "state": {
            "_model_module": "@jupyter-widgets/base",
            "_model_module_version": "1.2.0",
            "_model_name": "LayoutModel",
            "_view_count": null,
            "_view_module": "@jupyter-widgets/base",
            "_view_module_version": "1.2.0",
            "_view_name": "LayoutView",
            "align_content": null,
            "align_items": null,
            "align_self": null,
            "border": null,
            "bottom": null,
            "display": null,
            "flex": null,
            "flex_flow": null,
            "grid_area": null,
            "grid_auto_columns": null,
            "grid_auto_flow": null,
            "grid_auto_rows": null,
            "grid_column": null,
            "grid_gap": null,
            "grid_row": null,
            "grid_template_areas": null,
            "grid_template_columns": null,
            "grid_template_rows": null,
            "height": null,
            "justify_content": null,
            "justify_items": null,
            "left": null,
            "margin": null,
            "max_height": null,
            "max_width": null,
            "min_height": null,
            "min_width": null,
            "object_fit": null,
            "object_position": null,
            "order": null,
            "overflow": null,
            "overflow_x": null,
            "overflow_y": null,
            "padding": null,
            "right": null,
            "top": null,
            "visibility": null,
            "width": null
          }
        },
        "e6f26f3626a744dd9b04be311ec89b9e": {
          "model_module": "@jupyter-widgets/controls",
          "model_module_version": "1.5.0",
          "model_name": "DescriptionStyleModel",
          "state": {
            "_model_module": "@jupyter-widgets/controls",
            "_model_module_version": "1.5.0",
            "_model_name": "DescriptionStyleModel",
            "_view_count": null,
            "_view_module": "@jupyter-widgets/base",
            "_view_module_version": "1.2.0",
            "_view_name": "StyleView",
            "description_width": ""
          }
        },
        "e7a0feb1b8f1463589d4a65e41794852": {
          "model_module": "@jupyter-widgets/controls",
          "model_module_version": "1.5.0",
          "model_name": "DescriptionStyleModel",
          "state": {
            "_model_module": "@jupyter-widgets/controls",
            "_model_module_version": "1.5.0",
            "_model_name": "DescriptionStyleModel",
            "_view_count": null,
            "_view_module": "@jupyter-widgets/base",
            "_view_module_version": "1.2.0",
            "_view_name": "StyleView",
            "description_width": ""
          }
        },
        "eaf56e6679384cc98104a2fe43152992": {
          "model_module": "@jupyter-widgets/controls",
          "model_module_version": "1.5.0",
          "model_name": "HBoxModel",
          "state": {
            "_dom_classes": [],
            "_model_module": "@jupyter-widgets/controls",
            "_model_module_version": "1.5.0",
            "_model_name": "HBoxModel",
            "_view_count": null,
            "_view_module": "@jupyter-widgets/controls",
            "_view_module_version": "1.5.0",
            "_view_name": "HBoxView",
            "box_style": "",
            "children": [
              "IPY_MODEL_b05cd82580774099a30e6315c0263973",
              "IPY_MODEL_5328f05394b94c8db0119837a4b32abb",
              "IPY_MODEL_43e3aee6d43348469eb9a3dc00f9859a"
            ],
            "layout": "IPY_MODEL_13a133822174477bae7788430067137d"
          }
        },
        "f2fdfa835be34001a0dd98d6cbd6197f": {
          "model_module": "@jupyter-widgets/base",
          "model_module_version": "1.2.0",
          "model_name": "LayoutModel",
          "state": {
            "_model_module": "@jupyter-widgets/base",
            "_model_module_version": "1.2.0",
            "_model_name": "LayoutModel",
            "_view_count": null,
            "_view_module": "@jupyter-widgets/base",
            "_view_module_version": "1.2.0",
            "_view_name": "LayoutView",
            "align_content": null,
            "align_items": null,
            "align_self": null,
            "border": null,
            "bottom": null,
            "display": null,
            "flex": null,
            "flex_flow": null,
            "grid_area": null,
            "grid_auto_columns": null,
            "grid_auto_flow": null,
            "grid_auto_rows": null,
            "grid_column": null,
            "grid_gap": null,
            "grid_row": null,
            "grid_template_areas": null,
            "grid_template_columns": null,
            "grid_template_rows": null,
            "height": null,
            "justify_content": null,
            "justify_items": null,
            "left": null,
            "margin": null,
            "max_height": null,
            "max_width": null,
            "min_height": null,
            "min_width": null,
            "object_fit": null,
            "object_position": null,
            "order": null,
            "overflow": null,
            "overflow_x": null,
            "overflow_y": null,
            "padding": null,
            "right": null,
            "top": null,
            "visibility": null,
            "width": null
          }
        },
        "f571ebcdceba493fbef70e4251284489": {
          "model_module": "@jupyter-widgets/controls",
          "model_module_version": "1.5.0",
          "model_name": "DescriptionStyleModel",
          "state": {
            "_model_module": "@jupyter-widgets/controls",
            "_model_module_version": "1.5.0",
            "_model_name": "DescriptionStyleModel",
            "_view_count": null,
            "_view_module": "@jupyter-widgets/base",
            "_view_module_version": "1.2.0",
            "_view_name": "StyleView",
            "description_width": ""
          }
        },
        "fcbad918674748a7ad7ea80792ee812c": {
          "model_module": "@jupyter-widgets/controls",
          "model_module_version": "1.5.0",
          "model_name": "FloatProgressModel",
          "state": {
            "_dom_classes": [],
            "_model_module": "@jupyter-widgets/controls",
            "_model_module_version": "1.5.0",
            "_model_name": "FloatProgressModel",
            "_view_count": null,
            "_view_module": "@jupyter-widgets/controls",
            "_view_module_version": "1.5.0",
            "_view_name": "ProgressView",
            "bar_style": "success",
            "description": "",
            "description_tooltip": null,
            "layout": "IPY_MODEL_e01a5ca53849422dadeb78f73264a55e",
            "max": 52554,
            "min": 0,
            "orientation": "horizontal",
            "style": "IPY_MODEL_a3dae3511ffc48e0b509b6142839a958",
            "value": 52554
          }
        },
        "ffdf4f2be6b748feb8357c64589e3a3b": {
          "model_module": "@jupyter-widgets/controls",
          "model_module_version": "1.5.0",
          "model_name": "HTMLModel",
          "state": {
            "_dom_classes": [],
            "_model_module": "@jupyter-widgets/controls",
            "_model_module_version": "1.5.0",
            "_model_name": "HTMLModel",
            "_view_count": null,
            "_view_module": "@jupyter-widgets/controls",
            "_view_module_version": "1.5.0",
            "_view_name": "HTMLView",
            "description": "",
            "description_tooltip": null,
            "layout": "IPY_MODEL_a5556fa28d2d4f998f1e642309f7a556",
            "placeholder": "​",
            "style": "IPY_MODEL_f571ebcdceba493fbef70e4251284489",
            "value": " 424k/? [00:00&lt;00:00, 20.6MB/s]"
          }
        }
      }
    }
  },
  "nbformat": 4,
  "nbformat_minor": 0
}
